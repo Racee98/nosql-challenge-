{
 "cells": [
  {
   "cell_type": "markdown",
   "id": "b3805f52",
   "metadata": {},
   "source": [
    "# Eat Safe ,Love "
   ]
  },
  {
   "cell_type": "markdown",
   "id": "4a63f718",
   "metadata": {},
   "source": [
    "# Notebook  Set up"
   ]
  },
  {
   "cell_type": "code",
   "execution_count": null,
   "id": "2857d231",
   "metadata": {},
   "outputs": [],
   "source": [
    "# Import dependencies\n",
    "from pymongo import MongoClient\n",
    "from pprint import pprint"
   ]
  },
  {
   "cell_type": "code",
   "execution_count": null,
   "id": "d67db14b",
   "metadata": {},
   "outputs": [],
   "source": [
    "# Create an instance of MongoClient\n",
    "mongo = MongoClient(port=27017)"
   ]
  },
  {
   "cell_type": "code",
   "execution_count": null,
   "id": "55c2663e",
   "metadata": {},
   "outputs": [],
   "source": [
    "# assign the uk_food database to a variable name\n",
    "db = mongo['uk_food']"
   ]
  },
  {
   "cell_type": "code",
   "execution_count": null,
   "id": "92840442",
   "metadata": {},
   "outputs": [],
   "source": [
    "# review the collections in our database\n",
    "print(food_db.list_collection_names())\n"
   ]
  },
  {
   "cell_type": "code",
   "execution_count": null,
   "id": "1580615f",
   "metadata": {},
   "outputs": [],
   "source": [
    "# assign the collection to a variable\n",
    "establishments = db['establishments']"
   ]
  },
  {
   "cell_type": "markdown",
   "id": "76e10bac",
   "metadata": {},
   "source": [
    "## Part 3: Exploratory Analysis\n",
    "Unless otherwise stated, for each question: \n",
    "* Use `count_documents` to display the number of documents contained in the result.\n",
    "* Display the first document in the results using `pprint`.\n",
    "* Convert the result to a Pandas DataFrame, print the number of rows in the DataFrame, and display the first 10 rows."
   ]
  },
  {
   "cell_type": "markdown",
   "id": "155386a1",
   "metadata": {},
   "source": [
    "### 1. Which establishments have a hygiene score equal to 20?"
   ]
  },
  {
   "cell_type": "code",
   "execution_count": null,
   "id": "b5e508a3",
   "metadata": {},
   "outputs": [],
   "source": [
    "# Find the establishments with a hygiene score of 20\n",
    "query = {'scores.Hygiene': 20}\n",
    "\n",
    "# Use count_documents to display the number of documents in the result\n",
    "count = establishments.count_documents(query)\n",
    "print(f\"{count} establishments have a hygiene score of 20\")\n",
    "\n",
    "# Display the first document in the results using pprint\n",
    "result = establishments.find_one(query)\n",
    "if result:\n",
    "    pprint(result)\n",
    "else:\n",
    "    print(\"No establishments found with a hygiene score of 20\")"
   ]
  },
  {
   "cell_type": "code",
   "execution_count": null,
   "id": "c4cd1be8",
   "metadata": {},
   "outputs": [],
   "source": [
    "# Convert the result to a Pandas DataFrame\n",
    "hygiene_df = pd.DataFrame(establishments.find(query))\n",
    "\n",
    "# Display the number of rows in the DataFrame\n",
    "print(f\"There are {len(hygiene_df)} rows in the dataframe\")\n",
    "\n",
    "# Display the first 10 rows of the DataFrame\n",
    "hygiene_df.head(10)"
   ]
  },
  {
   "cell_type": "markdown",
   "id": "85b07938",
   "metadata": {},
   "source": [
    "# 2. Which establishments in London have a RatingValue greater than or equal to 4?"
   ]
  },
  {
   "cell_type": "code",
   "execution_count": null,
   "id": "0a56e164",
   "metadata": {},
   "outputs": [],
   "source": [
    "# Find the establishments with London as the Local Authority and has a RatingValue greater than or equal to 4.\n",
    "query2 = {'LocalAuthorityName': {'$regex': 'London'}, \n",
    "          'RatingValue': {'$gte': '4'}\n",
    "         }\n",
    "\n",
    "# Use count_documents to display the number of documents in the result\n",
    "rating_count = establishments.count_documents(query2)\n",
    "print(f\"{rating_count} establishments in London have a Rating Value >= 4\")\n",
    "\n",
    "# Display the first document in the results using pprint\n",
    "pprint(establishments.find_one(query2))"
   ]
  },
  {
   "cell_type": "code",
   "execution_count": null,
   "id": "a256f922",
   "metadata": {},
   "outputs": [],
   "source": [
    "# Convert the result to a Pandas DataFrame\n",
    "results = list(establishments.find(query2))\n",
    "rating_df = pd.DataFrame(results)\n",
    "\n",
    "# Display the number of rows in the DataFrame\n",
    "num_rows = len(rating_df)\n",
    "print(f\"There are {num_rows} rows in the dataframe\")\n",
    "\n",
    "# Display the first 10 rows of the DataFrame\n",
    "rating_df.head(10)"
   ]
  },
  {
   "cell_type": "markdown",
   "id": "6ef1b0fe",
   "metadata": {},
   "source": [
    "# 3. What are the top 5 establishments with a RatingValue rating value of '5', sorted by lowest hygiene score, nearest to the new restaurant added, \"Penang Flavours\"?"
   ]
  },
  {
   "cell_type": "code",
   "execution_count": null,
   "id": "3b05f47e",
   "metadata": {},
   "outputs": [],
   "source": [
    "degree_search = 0.01\n",
    "latitude = 51.490142\n",
    "longitude = 0.08384\n",
    "\n",
    "query3 = {\n",
    "    'RatingValue': '5',\n",
    "    'geocode.latitude': {'$lte': (latitude + degree_search), '$gte': (latitude - degree_search)},\n",
    "    'geocode.longitude': {'$lte': (longitude + degree_search), '$gte': (longitude - degree_search)}\n",
    "}\n",
    "sort = [('scores.Hygiene', 1)]\n",
    "\n",
    "# Print the results\n",
    "for result in establishments.find(query3).sort(sort).limit(5):\n",
    "    pprint(result)"
   ]
  },
  {
   "cell_type": "code",
   "execution_count": null,
   "id": "764bdbd6",
   "metadata": {},
   "outputs": [],
   "source": [
    "# Convert result to Pandas DataFrame\n",
    "location_df = pd.DataFrame(results)"
   ]
  },
  {
   "cell_type": "markdown",
   "id": "d0c50412",
   "metadata": {},
   "source": [
    "# 4. How many establishments in each Local Authority area have a hygiene score of 0?"
   ]
  },
  {
   "cell_type": "code",
   "execution_count": null,
   "id": "670c870b",
   "metadata": {},
   "outputs": [],
   "source": [
    "# Define the pipeline stages\n",
    "match_query = {'$match': {'scores.Hygiene': 0}}\n",
    "group_query = {'$group': {'_id': '$LocalAuthorityName', 'count': {'$sum': 1}}}\n",
    "sort_query = {'$sort': {'count': -1}}\n",
    "pipeline = [match_query, group_query, sort_query]\n",
    "\n",
    "# 3. Sorts the matches from highest to lowest\n",
    "sort_query = {'$sort': {'count': -1}}\n",
    "pipeline = [match_query, group_query, sort_query]\n",
    "\n",
    "results = list(establishments.aggregate(pipeline))\n",
    "\n",
    "# Display the number of documents in the result\n",
    "num_documents = len(results)\n",
    "print(f\"There are {num_documents} documents\")\n",
    "\n",
    "# Display the first 10 results\n",
    "pprint(results[:10])"
   ]
  },
  {
   "cell_type": "code",
   "execution_count": null,
   "id": "d0d62cd2",
   "metadata": {},
   "outputs": [],
   "source": [
    "bad_hygiene_df = pd.DataFrame(results)\n",
    "\n",
    "# Display the number of rows in the DataFrame\n",
    "num_rows = len(bad_hygiene_df)\n",
    "print(f\"There are {num_rows} rows in the dataframe\")\n",
    "\n",
    "# Display the first 10 rows of the DataFrame\n",
    "bad_hygiene_df.head(10)\n"
   ]
  }
 ],
 "metadata": {
  "kernelspec": {
   "display_name": "Python 3 (ipykernel)",
   "language": "python",
   "name": "python3"
  },
  "language_info": {
   "codemirror_mode": {
    "name": "ipython",
    "version": 3
   },
   "file_extension": ".py",
   "mimetype": "text/x-python",
   "name": "python",
   "nbconvert_exporter": "python",
   "pygments_lexer": "ipython3",
   "version": "3.9.13"
  }
 },
 "nbformat": 4,
 "nbformat_minor": 5
}
